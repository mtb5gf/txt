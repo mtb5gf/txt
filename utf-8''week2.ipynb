{
  "cells": [
    {
      "metadata": {
        "collapsed": true
      },
      "cell_type": "markdown",
      "source": "TXT GROUP WEEK 2: LISTING, SPLITING, AND SLICING; or, the Things We Do in Brackets\n\nLast session, we went over how to define a VARIABLE, what different types of data Python accepts, and how to set a conditional in the form of an IF STATEMENT.\n\nTo review these quickly, we’re going to define the VARIABLE topic as “Letters”, result as “?”, and book_index as an especially long string."
    },
    {
      "metadata": {
        "trusted": true
      },
      "cell_type": "code",
      "source": "topic = \"Letters\"\nresults = \"?\"\nbook_index = \"Chapter 1: Conversation Chapter 2: Dress Chapter 3: Traveling Chapter 4: How to Behave at a Hotel Chapter 5: Letters of Business Chapter 6: Letters of the Heart Chapter 7: Evening Parties as Hostess\"",
      "execution_count": 6,
      "outputs": []
    },
    {
      "metadata": {},
      "cell_type": "markdown",
      "source": "We want to see if our topic appears within book_index to find which chapter we might want to reference."
    },
    {
      "metadata": {
        "trusted": true
      },
      "cell_type": "code",
      "source": "if topic in book_index:\n\tresults = \"Yeah, there's a result. Or results? I really don't know\"\nelse: \n\tresults = \"Nah, I don't think there are any results.\"\n\nprint(results)",
      "execution_count": 4,
      "outputs": [
        {
          "output_type": "stream",
          "text": "Yeah, there's a result. Or results? I really don't know\n",
          "name": "stdout"
        }
      ]
    },
    {
      "metadata": {},
      "cell_type": "markdown",
      "source": "As the results show us above, this current if statement wouldn't be able to distinguish whether the word \"Letters\" appears one or a million times in book_index; it is satisfied after the first hit. By using LISTS and SLICES, we're going to write code that will give us significantly more informative results."
    },
    {
      "metadata": {},
      "cell_type": "markdown",
      "source": "SLICING\n\nIf we're going to build code that will give us more robust information, we will first need to know what the infomation we want is. One thing we might want to know is which exact chapters match our topic. By scanning the “book_index” string, our eyes might be able to quickly tell which chapter we want. Typographically, the colon after each chapter number states what each chapter covers. There are seven chapters in book_index and two of those chapters deal with letters."
    },
    {
      "metadata": {
        "trusted": true
      },
      "cell_type": "code",
      "source": "print(book_index)",
      "execution_count": 43,
      "outputs": [
        {
          "output_type": "stream",
          "text": "Chapter 1: Conversation Chapter 2: Dress Chapter 3: Traveling Chapter 4: How to Behave at a Hotel Chapter 5: Letters of Business Chapter 6: Letters of the Heart Chapter 7: Evening Parties as Hostess\n",
          "name": "stdout"
        }
      ]
    },
    {
      "metadata": {},
      "cell_type": "markdown",
      "source": "We may see seven chapters, but if we run a len() command on book_index, Python outputs a very different number."
    },
    {
      "metadata": {
        "trusted": true
      },
      "cell_type": "code",
      "source": "len(book_index)",
      "execution_count": 8,
      "outputs": [
        {
          "output_type": "execute_result",
          "execution_count": 8,
          "data": {
            "text/plain": "198"
          },
          "metadata": {}
        }
      ]
    },
    {
      "metadata": {},
      "cell_type": "markdown",
      "source": "If we want to know what those 198 components are we can SLICE through book_index. Much like a piece of pie, a SLICE is a portion of a whole. We can SLICE however large a piece that we'd like in whatever direction we prefer. SLICING is marked by brackets [ ]."
    },
    {
      "metadata": {
        "trusted": true
      },
      "cell_type": "code",
      "source": "book_index[0:10]\n#try substituting in different numbers. What happens when you leave certain coordinates blank?#",
      "execution_count": 14,
      "outputs": [
        {
          "output_type": "execute_result",
          "execution_count": 14,
          "data": {
            "text/plain": "'Chapter 1:'"
          },
          "metadata": {}
        }
      ]
    },
    {
      "metadata": {
        "trusted": true
      },
      "cell_type": "code",
      "source": "book_index[-10:]",
      "execution_count": 15,
      "outputs": [
        {
          "output_type": "execute_result",
          "execution_count": 15,
          "data": {
            "text/plain": "'as Hostess'"
          },
          "metadata": {}
        }
      ]
    },
    {
      "metadata": {},
      "cell_type": "markdown",
      "source": "So, if we want to know what the first item in book_index is, we would type book_index[0]. if we wanted to know the last part of book_index, we would write book_index[-1] If we only wanted to see a section of book index, we would SLICE as follows: book_index [3:8]\n\nThis may not seem that important given that book_index is pretty readable. But let’s imagine instead that “book_index” is actually a collection of indices from eight hundred self-help books. Having all of this data as a single, readable string is untenable. Even if we used command/control F, we wouldn’t intuitively know which book we were looking at either."
    },
    {
      "metadata": {},
      "cell_type": "markdown",
      "source": "SPLITING\n\nThankfully, Python has a built in function for splitting a data type by common patterns. The .split() commands allows users to take a string and split it based on a feature. Which word or character would we want to SPLIT book_index by if we wanted the results len() to be 7? Or, which word occurs seven times times in valuable places?"
    },
    {
      "metadata": {
        "trusted": true,
        "scrolled": true
      },
      "cell_type": "code",
      "source": "my_birthday = \"11/18/1991\"\nmy_birthday_n = my_birthday.split(\"/\")\nb_month = my_birthday_n[0]\nb_date = my_birthday_n[1]\nb_year = my_birthday_n[2]\n\nprint(b_month)",
      "execution_count": 26,
      "outputs": [
        {
          "output_type": "stream",
          "text": "11\n",
          "name": "stdout"
        }
      ]
    },
    {
      "metadata": {
        "trusted": true
      },
      "cell_type": "code",
      "source": "#finish the following code#\nbook_index_n = book_index.split(\"Chapter\")\nlen(book_index_n)",
      "execution_count": 46,
      "outputs": [
        {
          "output_type": "execute_result",
          "execution_count": 46,
          "data": {
            "text/plain": "8"
          },
          "metadata": {}
        }
      ]
    },
    {
      "metadata": {},
      "cell_type": "markdown",
      "source": "That should have worked! Why does the result say that len = 8? We have a blank entry. There are a few ways that we can get rid of this entry, but I would like to focus on one method that uses slicing. If the first entry is blank, how could we use slicing to only have relevant entries."
    },
    {
      "metadata": {
        "trusted": true
      },
      "cell_type": "code",
      "source": "#finish the following code#\nbook_index_n = book_index_n[1:]\n\ntype(book_index_n)",
      "execution_count": 47,
      "outputs": [
        {
          "output_type": "execute_result",
          "execution_count": 47,
          "data": {
            "text/plain": "list"
          },
          "metadata": {}
        }
      ]
    },
    {
      "metadata": {},
      "cell_type": "markdown",
      "source": "You may notice that when we slice through step_one, some entires contain far more than a single character. Using the type() function, we find out that type(step_one) is a list, where as topic and book_index are strings."
    },
    {
      "metadata": {},
      "cell_type": "markdown",
      "source": "LISTS\n\nA LIST is a scalable collection of similar types of data. We define a LIST through using brackets. While we can have lists of integers and lists of strings, the two do not mix. In the example below, some strings are converted into integers for mathematical operations and then converted back again."
    },
    {
      "metadata": {
        "trusted": true,
        "scrolled": true
      },
      "cell_type": "code",
      "source": "my_favorite_things = [\"funky patterned shirts\", \"homemade bread\", \"anything woolen\", \"bathbombs\", \"The Cure or The Cramps depending on mood\", \"pancakes\", \"novels with dancing and scandal\"]\nlucky_numbers = [4, 21, 72]\n\nTodays_month = 9\n\nif Todays_month == int(b_month):\n    print(\"Malcolm likes \" + my_favorite_things[2])\nelse:\n    print(\"Only \" + str(abs(int(b_month) - Todays_month)) + \" more months until Malcolm's birthday ;)\")\n",
      "execution_count": 39,
      "outputs": [
        {
          "output_type": "stream",
          "text": "Only 2 more months until Malcolm's birthday ;)\n",
          "name": "stdout"
        }
      ]
    },
    {
      "metadata": {},
      "cell_type": "markdown",
      "source": "One important quality to lists is that they’re mutable. We can add new entries to a list and even change existing entries.\n\nWe’re going to test this mutability by adding the word “Chapter” back to each entry. Test the following two pieces of code. Why does one work and the other does not?"
    },
    {
      "metadata": {
        "trusted": true
      },
      "cell_type": "code",
      "source": "for entry in book_index_n:\n\tentry = \"Chapter\" + entry\n\nprint(book_index_n)\n",
      "execution_count": 48,
      "outputs": [
        {
          "output_type": "stream",
          "text": "[' 1: Conversation ', ' 2: Dress ', ' 3: Traveling ', ' 4: How to Behave at a Hotel ', ' 5: Letters of Business ', ' 6: Letters of the Heart ', ' 7: Evening Parties as Hostess']\n",
          "name": "stdout"
        }
      ]
    },
    {
      "metadata": {
        "trusted": true
      },
      "cell_type": "code",
      "source": "for number in range(len(book_index_n)):\n\tbook_index_n[number] = \"Chapter\" + book_index_n[number]\n    \nprint(book_index_n)",
      "execution_count": 49,
      "outputs": [
        {
          "output_type": "stream",
          "text": "['Chapter 1: Conversation ', 'Chapter 2: Dress ', 'Chapter 3: Traveling ', 'Chapter 4: How to Behave at a Hotel ', 'Chapter 5: Letters of Business ', 'Chapter 6: Letters of the Heart ', 'Chapter 7: Evening Parties as Hostess']\n",
          "name": "stdout"
        }
      ]
    },
    {
      "metadata": {},
      "cell_type": "markdown",
      "source": "If we wanted to delimit these results further, we could use the split command once again."
    },
    {
      "metadata": {
        "trusted": true
      },
      "cell_type": "code",
      "source": "book_index_BEST = []\n\nfor item in book_index_n:\n    ch = item.split(\":\")[0]\n    des = item.split(\":\")[1]\n    book_index_BEST.append([ch, des])\n    \nprint(book_index_BEST)",
      "execution_count": 52,
      "outputs": [
        {
          "output_type": "stream",
          "text": "[['Chapter 1', ' Conversation '], ['Chapter 2', ' Dress '], ['Chapter 3', ' Traveling '], ['Chapter 4', ' How to Behave at a Hotel '], ['Chapter 5', ' Letters of Business '], ['Chapter 6', ' Letters of the Heart '], ['Chapter 7', ' Evening Parties as Hostess']]\n",
          "name": "stdout"
        }
      ]
    },
    {
      "metadata": {},
      "cell_type": "markdown",
      "source": "Now that we have our list up and running, we can be a bit more ambitious with our research. Instead of searching only for a single topic, let’s look at multiple topics. Our first step is going to be changing our variable from topic to topics. Now it’s official. Next, we’ll want to add our new topics, using the append function of Python.\n"
    },
    {
      "metadata": {
        "trusted": true
      },
      "cell_type": "code",
      "source": "topics = topic\ntopics.append(\"Parties\", \"Conduct\", \"Etiquette\", \"Dainty H'ors D'ouevres\")\ntopics",
      "execution_count": 54,
      "outputs": [
        {
          "output_type": "error",
          "ename": "AttributeError",
          "evalue": "'str' object has no attribute 'append'",
          "traceback": [
            "\u001b[0;31m---------------------------------------------------------------------------\u001b[0m",
            "\u001b[0;31mAttributeError\u001b[0m                            Traceback (most recent call last)",
            "\u001b[0;32m<ipython-input-54-1a775625adc4>\u001b[0m in \u001b[0;36m<module>\u001b[0;34m()\u001b[0m\n\u001b[1;32m      1\u001b[0m \u001b[0mtopics\u001b[0m \u001b[0;34m=\u001b[0m \u001b[0mtopic\u001b[0m\u001b[0;34m\u001b[0m\u001b[0m\n\u001b[0;32m----> 2\u001b[0;31m \u001b[0mtopics\u001b[0m\u001b[0;34m.\u001b[0m\u001b[0mappend\u001b[0m\u001b[0;34m(\u001b[0m\u001b[0;34m\"Parties\"\u001b[0m\u001b[0;34m,\u001b[0m \u001b[0;34m\"Conduct\"\u001b[0m\u001b[0;34m,\u001b[0m \u001b[0;34m\"Etiquette\"\u001b[0m\u001b[0;34m,\u001b[0m \u001b[0;34m\"Dainty H'ors D'ouevres\"\u001b[0m\u001b[0;34m)\u001b[0m\u001b[0;34m\u001b[0m\u001b[0m\n\u001b[0m\u001b[1;32m      3\u001b[0m \u001b[0mtopics\u001b[0m\u001b[0;34m\u001b[0m\u001b[0m\n",
            "\u001b[0;31mAttributeError\u001b[0m: 'str' object has no attribute 'append'"
          ]
        }
      ]
    },
    {
      "metadata": {},
      "cell_type": "markdown",
      "source": "Why didn’t that work? For one, pluralizing topic to topics didn’t change it from a single string to a list. Making a list in Python requires brackets."
    },
    {
      "metadata": {
        "trusted": true
      },
      "cell_type": "code",
      "source": "topics = [topic]\ntopics.append(\"Parties\", \"Conduct\", \"Etiquette\", \"Dainty H'ors D'ouevres\")\ntopics",
      "execution_count": 55,
      "outputs": [
        {
          "output_type": "error",
          "ename": "TypeError",
          "evalue": "append() takes exactly one argument (4 given)",
          "traceback": [
            "\u001b[0;31m---------------------------------------------------------------------------\u001b[0m",
            "\u001b[0;31mTypeError\u001b[0m                                 Traceback (most recent call last)",
            "\u001b[0;32m<ipython-input-55-525141182c27>\u001b[0m in \u001b[0;36m<module>\u001b[0;34m()\u001b[0m\n\u001b[1;32m      1\u001b[0m \u001b[0mtopics\u001b[0m \u001b[0;34m=\u001b[0m \u001b[0;34m[\u001b[0m\u001b[0mtopic\u001b[0m\u001b[0;34m]\u001b[0m\u001b[0;34m\u001b[0m\u001b[0m\n\u001b[0;32m----> 2\u001b[0;31m \u001b[0mtopics\u001b[0m\u001b[0;34m.\u001b[0m\u001b[0mappend\u001b[0m\u001b[0;34m(\u001b[0m\u001b[0;34m\"Parties\"\u001b[0m\u001b[0;34m,\u001b[0m \u001b[0;34m\"Conduct\"\u001b[0m\u001b[0;34m,\u001b[0m \u001b[0;34m\"Etiquette\"\u001b[0m\u001b[0;34m,\u001b[0m \u001b[0;34m\"Dainty H'ors D'ouevres\"\u001b[0m\u001b[0;34m)\u001b[0m\u001b[0;34m\u001b[0m\u001b[0m\n\u001b[0m\u001b[1;32m      3\u001b[0m \u001b[0mtopics\u001b[0m\u001b[0;34m\u001b[0m\u001b[0m\n",
            "\u001b[0;31mTypeError\u001b[0m: append() takes exactly one argument (4 given)"
          ]
        }
      ]
    },
    {
      "metadata": {},
      "cell_type": "markdown",
      "source": "So let’s try this again, now that we’re positive that topics is a list. Why didn’t that work? The append command adds only a single item to a list at a time. We got greedy and tried to add too many at once. Working either alone or with a partner, come up with a way to add these new_topics to the list topics one by one."
    },
    {
      "metadata": {
        "trusted": true
      },
      "cell_type": "code",
      "source": "for new_topic in [\"Parties\", \"Conduct\", \"Etiquette\", \"Dainty H'ors D'ouevres\"]:\n\ttopics.append(new_topic)\ntopics\n",
      "execution_count": 56,
      "outputs": [
        {
          "output_type": "execute_result",
          "execution_count": 56,
          "data": {
            "text/plain": "['Letters', 'Parties', 'Conduct', 'Etiquette', \"Dainty H'ors D'ouevres\"]"
          },
          "metadata": {}
        }
      ]
    },
    {
      "metadata": {},
      "cell_type": "markdown",
      "source": "Now let's put it all together!"
    },
    {
      "metadata": {
        "trusted": true
      },
      "cell_type": "code",
      "source": "for topic in topics:\n\tfor word in book_index_BEST:\n\t\tif topic in word[1]:\n\t\t\tprint(word[0])",
      "execution_count": 60,
      "outputs": [
        {
          "output_type": "stream",
          "text": "Chapter 5\nChapter 6\nChapter 7\n",
          "name": "stdout"
        }
      ]
    }
  ],
  "metadata": {
    "kernelspec": {
      "name": "python36",
      "display_name": "Python 3.6",
      "language": "python"
    },
    "language_info": {
      "mimetype": "text/x-python",
      "nbconvert_exporter": "python",
      "name": "python",
      "pygments_lexer": "ipython3",
      "version": "3.6.3",
      "file_extension": ".py",
      "codemirror_mode": {
        "version": 3,
        "name": "ipython"
      }
    }
  },
  "nbformat": 4,
  "nbformat_minor": 2
}